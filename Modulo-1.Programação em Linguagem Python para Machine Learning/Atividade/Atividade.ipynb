{
 "cells": [
  {
   "cell_type": "markdown",
   "metadata": {},
   "source": [
    "# Mateus Sousa do Carmo\n",
    "## Atividade\n",
    "\n",
    "### Questão 1\n",
    "Escreva um programa que solicite ao usuario uma palavra e verifique se ela é um palíndromo.\n",
    "\n",
    "#### Resposta abaixo"
   ]
  },
  {
   "cell_type": "code",
   "execution_count": 5,
   "metadata": {},
   "outputs": [],
   "source": [
    "def Palindromo(palavra:str)->None:\n",
    "    print(f'{palavra} , {palavra[::-1]}')\n",
    "    if (palavra == palavra[::-1]):\n",
    "        print('Palavra é um palindromo')\n",
    "    else:\n",
    "        print('Palavra não é um palindromo')"
   ]
  },
  {
   "cell_type": "code",
   "execution_count": 6,
   "metadata": {},
   "outputs": [
    {
     "name": "stdout",
     "output_type": "stream",
     "text": [
      "tenet , tenet\n",
      "Palavra é um palindromo\n"
     ]
    }
   ],
   "source": [
    "Palindromo(input('Escreva uma palavra :'))"
   ]
  },
  {
   "cell_type": "markdown",
   "metadata": {},
   "source": [
    "### Questão 2\n",
    "Escreva um programa que leia números digitados pelo usuario e pare quando o número 0 for digitado. No final , imprimia a media dos numeros digitados\n",
    "\n",
    "#### Resposta abaixo"
   ]
  },
  {
   "cell_type": "code",
   "execution_count": 7,
   "metadata": {},
   "outputs": [
    {
     "name": "stdout",
     "output_type": "stream",
     "text": [
      "Valor digitado Invalido\n",
      "Valor digitados   : 2.0 3.0 4.0 5.0\n",
      "Media dos numeros : 3.5\n"
     ]
    }
   ],
   "source": [
    "def MediaDosNumeros():\n",
    "    numero = None\n",
    "    ListaDeNumeros = list()\n",
    "    while (numero != 0):\n",
    "        #Caso o usuario digite um valor diferente de numeros \n",
    "        #Isso me dara um erro , irei trata-lo para ignorar esses erro\n",
    "        try:\n",
    "            #entrada de valores \n",
    "            numero = float(input('Digite numeros diferente de 0: '))\n",
    "\n",
    "            if (numero == 0.0): break\n",
    "\n",
    "            ListaDeNumeros.append(numero)\n",
    "        \n",
    "        except Exception:\n",
    "            print('Valor digitado Invalido')\n",
    "\n",
    "    Quantidade = (len(ListaDeNumeros)) \n",
    "    Soma       = sum(ListaDeNumeros)\n",
    "    Resultado  = Soma/Quantidade  \n",
    "    Valores    = \" \".join(map(str,ListaDeNumeros))\n",
    "\n",
    "    print(f'Valor digitados   : {Valores}')\n",
    "    print(f'Media dos numeros : {Resultado}') \n",
    "\n",
    "MediaDosNumeros()"
   ]
  },
  {
   "cell_type": "markdown",
   "metadata": {},
   "source": [
    "### Questão 3\n",
    "Dada um string 'python é um linguagem poderosa' , crie um lista com as palavras separadas.\n",
    "\n",
    "#### Resposta abaixo\n"
   ]
  },
  {
   "cell_type": "code",
   "execution_count": 8,
   "metadata": {},
   "outputs": [],
   "source": [
    "def ListaComPalavrasSeparadas(palavra:str): return palavra.split(' ')"
   ]
  },
  {
   "cell_type": "code",
   "execution_count": 9,
   "metadata": {},
   "outputs": [
    {
     "data": {
      "text/plain": [
       "['Python', 'é', 'uma', 'linguagem', 'poderosa']"
      ]
     },
     "execution_count": 9,
     "metadata": {},
     "output_type": "execute_result"
    }
   ],
   "source": [
    "ListaComPalavrasSeparadas('Python é uma linguagem poderosa')"
   ]
  },
  {
   "cell_type": "markdown",
   "metadata": {},
   "source": [
    "### Questão 4\n",
    "Dada uma lista de strings ['banana','maçã','laranja','abacaxi'], crie uma nova lista com palavras que tem mais de 5 letras e outra lista com as palavras que terminam com a letra 'a'.\n",
    "\n",
    "\n",
    "#### Resposta abaixo"
   ]
  },
  {
   "cell_type": "code",
   "execution_count": 10,
   "metadata": {},
   "outputs": [
    {
     "data": {
      "text/plain": [
       "(['banana', 'laranja', 'abacaxi'], ['banana', 'laranja'])"
      ]
     },
     "execution_count": 10,
     "metadata": {},
     "output_type": "execute_result"
    }
   ],
   "source": [
    "Lista  = ['banana','maçã','laranja','abacaxi']\n",
    "\n",
    "ListaA = []\n",
    "ListaB = []\n",
    "\n",
    "for palavra in Lista:\n",
    "    if len(palavra)>5:              ListaA.append(palavra)\n",
    "    if palavra[len(palavra)-1]=='a':ListaB.append(palavra)\n",
    "\n",
    "ListaA,ListaB"
   ]
  },
  {
   "cell_type": "markdown",
   "metadata": {},
   "source": [
    "### Questão 5\n",
    "Escreva uma função que receba uma lista de números e retorne outra lista com os números primos presentes.\n",
    "\n",
    "#### Resposta abaixo"
   ]
  },
  {
   "cell_type": "code",
   "execution_count": 11,
   "metadata": {},
   "outputs": [],
   "source": [
    "# usando o loop dentro de uma lista junto com a condição\n",
    "def RetornaListaNumerosImpares(ListaDeNumeros):\n",
    "    return [ i for i in ListaDeNumeros  if i%2 != 0]"
   ]
  },
  {
   "cell_type": "code",
   "execution_count": 16,
   "metadata": {},
   "outputs": [],
   "source": [
    "ListaDeNumeros = [1,2,3,4,5,6,7,8,9,10,11,16,19]"
   ]
  },
  {
   "cell_type": "code",
   "execution_count": 17,
   "metadata": {},
   "outputs": [
    {
     "data": {
      "text/plain": [
       "[1, 3, 5, 7, 9, 11, 19]"
      ]
     },
     "execution_count": 17,
     "metadata": {},
     "output_type": "execute_result"
    }
   ],
   "source": [
    "RetornaListaNumerosImpares(ListaDeNumeros)"
   ]
  },
  {
   "cell_type": "markdown",
   "metadata": {},
   "source": [
    "### Questão 6\n",
    "Escreva uma função que receba uma lista de números e retorne outra lista com os numeros primos presentes.\n",
    "\n",
    "#### Resposta abaixo"
   ]
  },
  {
   "cell_type": "code",
   "execution_count": 19,
   "metadata": {},
   "outputs": [],
   "source": [
    "def RetornaNumerosPrimos(ListaDeNumeros):\n",
    "    ListaDePrimos = list()\n",
    "\n",
    "    for numero in ListaDeNumeros:\n",
    "        boleano = True\n",
    "        QuantidadeDeDivisores = 0\n",
    "        \n",
    "        if ( numero == 1) : boleano = False\n",
    "\n",
    "        for i in reversed([ n for n in range(1,numero+1)]):\n",
    "\n",
    "            if numero%i == 0            : QuantidadeDeDivisores +=1 \n",
    "            if QuantidadeDeDivisores > 2: boleano = False\n",
    "\n",
    "        if (boleano): ListaDePrimos.append(numero)\n",
    "\n",
    "    return ListaDePrimos"
   ]
  },
  {
   "cell_type": "code",
   "execution_count": 20,
   "metadata": {},
   "outputs": [
    {
     "data": {
      "text/plain": [
       "[2, 3, 5, 7, 11, 13, 17, 19, 23, 29, 31, 37, 41, 43, 47, 53]"
      ]
     },
     "execution_count": 20,
     "metadata": {},
     "output_type": "execute_result"
    }
   ],
   "source": [
    "RetornaNumerosPrimos([i for i in range(1,55)])"
   ]
  },
  {
   "cell_type": "markdown",
   "metadata": {},
   "source": [
    "### Questão 7\n",
    "Escreva uma função que receba duas lista de numeros e retorne outra lista com os elements que estão presente em apenas uma lista.\n",
    "\n",
    "#### Resposta abaixo"
   ]
  },
  {
   "cell_type": "code",
   "execution_count": 21,
   "metadata": {},
   "outputs": [],
   "source": [
    "def DiferencaDeLista( ListaA:list , ListaB:list , diferenca = [], iter=1):\n",
    "    \n",
    "    for valores in ListaA:\n",
    "        try:\n",
    "            if ListaB.index(valores) != 0:pass\n",
    "        except ValueError:\n",
    "            diferenca.append(valores)\n",
    "\n",
    "    if iter ==2: return diferenca\n",
    "\n",
    "    # Usando recusividade\n",
    "    # trocando os valores \n",
    "    else:\n",
    "        return DiferencaDeLista(ListaB,ListaA,diferenca,2)"
   ]
  },
  {
   "cell_type": "code",
   "execution_count": 22,
   "metadata": {},
   "outputs": [
    {
     "data": {
      "text/plain": [
       "[31, 10, 4, 5, 6]"
      ]
     },
     "execution_count": 22,
     "metadata": {},
     "output_type": "execute_result"
    }
   ],
   "source": [
    "DiferencaDeLista([1,2,3,31,10],[1,2,3,4,5,6],[],1)"
   ]
  },
  {
   "cell_type": "markdown",
   "metadata": {},
   "source": [
    "### Questão 8\n",
    "Dada uma lista de números inteiros, escreva uma função para encontrar o segundo maior valor na lista.\n",
    "\n",
    "#### Resposta abaixo"
   ]
  },
  {
   "cell_type": "code",
   "execution_count": 23,
   "metadata": {},
   "outputs": [],
   "source": [
    "def RetornaSegundoMaior(Lista:list):\n",
    "    print(f'Lista:{list(reversed(sorted(Lista)))}')\n",
    "\n",
    "    Lista.remove(max(Lista))\n",
    "    segundo = max(Lista)\n",
    "\n",
    "    print(f'Segundo Maior {segundo}')"
   ]
  },
  {
   "cell_type": "code",
   "execution_count": 24,
   "metadata": {},
   "outputs": [
    {
     "name": "stdout",
     "output_type": "stream",
     "text": [
      "Lista:[99, 10, 5, 4, 2, 1]\n",
      "Segundo Maior 10\n"
     ]
    }
   ],
   "source": [
    "RetornaSegundoMaior([1,2,4,5,10,99])"
   ]
  },
  {
   "cell_type": "markdown",
   "metadata": {},
   "source": [
    "### Questão 9\n",
    "Crie uma função que receba uma lista de tuplas , cada uma contendo o nome e a idade de uma pessoa , e retorne a lista ordenada pelo nome das pessoas em ordem alfabética.\n",
    "\n",
    "#### Resposta abaixo"
   ]
  },
  {
   "cell_type": "code",
   "execution_count": 31,
   "metadata": {},
   "outputs": [],
   "source": [
    "def OrdemAlfabetica(ListaDeTupla):\n",
    "    return sorted(ListaDeTupla)"
   ]
  },
  {
   "cell_type": "code",
   "execution_count": 33,
   "metadata": {},
   "outputs": [
    {
     "data": {
      "text/plain": [
       "[('a', 12), ('b', 18), ('b', 20), ('g', 41), ('w', 10), ('x', 10)]"
      ]
     },
     "execution_count": 33,
     "metadata": {},
     "output_type": "execute_result"
    }
   ],
   "source": [
    "OrdemAlfabetica(\n",
    "    [('w',10),('b',20),('a',12),('g',41),('x',10),('b',18)]\n",
    ")"
   ]
  },
  {
   "cell_type": "markdown",
   "metadata": {},
   "source": [
    "### Questão 10\n",
    "Dada uma lista contendo números  inteiros, como você encontraria o maior número eo menor número dessa lista em uma única passagem?\n",
    "#### Resposta abaixo"
   ]
  },
  {
   "cell_type": "code",
   "execution_count": 94,
   "metadata": {},
   "outputs": [
    {
     "name": "stdout",
     "output_type": "stream",
     "text": [
      "200 1\n"
     ]
    }
   ],
   "source": [
    "lista = [1 , 4 , 5, 10,200, 31, 112]\n",
    "print(max(lista),min(lista))"
   ]
  }
 ],
 "metadata": {
  "kernelspec": {
   "display_name": "venv",
   "language": "python",
   "name": "python3"
  },
  "language_info": {
   "codemirror_mode": {
    "name": "ipython",
    "version": 3
   },
   "file_extension": ".py",
   "mimetype": "text/x-python",
   "name": "python",
   "nbconvert_exporter": "python",
   "pygments_lexer": "ipython3",
   "version": "3.11.2"
  },
  "orig_nbformat": 4
 },
 "nbformat": 4,
 "nbformat_minor": 2
}
